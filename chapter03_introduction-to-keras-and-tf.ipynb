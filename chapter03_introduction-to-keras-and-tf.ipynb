{
  "cells": [
    {
      "cell_type": "markdown",
      "metadata": {
        "id": "view-in-github",
        "colab_type": "text"
      },
      "source": [
        "<a href=\"https://colab.research.google.com/github/aloiswirth/deep-learning-with-python-notebooks/blob/master/chapter03_introduction-to-keras-and-tf.ipynb\" target=\"_parent\"><img src=\"https://colab.research.google.com/assets/colab-badge.svg\" alt=\"Open In Colab\"/></a>"
      ]
    },
    {
      "cell_type": "markdown",
      "metadata": {
        "id": "FIR7oNFgPwun"
      },
      "source": [
        "This is a companion notebook for the book [Deep Learning with Python, Second Edition](https://www.manning.com/books/deep-learning-with-python-second-edition?a_aid=keras&a_bid=76564dff). For readability, it only contains runnable code blocks and section titles, and omits everything else in the book: text paragraphs, figures, and pseudocode.\n",
        "\n",
        "**If you want to be able to follow what's going on, I recommend reading the notebook side by side with your copy of the book.**\n",
        "\n",
        "This notebook was generated for TensorFlow 2.6."
      ]
    },
    {
      "cell_type": "markdown",
      "metadata": {
        "id": "J-2YLeBJPwur"
      },
      "source": [
        "# Introduction to Keras and TensorFlow"
      ]
    },
    {
      "cell_type": "markdown",
      "metadata": {
        "tags": [],
        "id": "9nySTcbwPwus"
      },
      "source": [
        "## What's TensorFlow?"
      ]
    },
    {
      "cell_type": "markdown",
      "metadata": {
        "jp-MarkdownHeadingCollapsed": true,
        "tags": [],
        "id": "KYCcxPu_Pwus"
      },
      "source": [
        "## What's Keras?"
      ]
    },
    {
      "cell_type": "markdown",
      "metadata": {
        "jp-MarkdownHeadingCollapsed": true,
        "tags": [],
        "id": "CyG3mKKTPwut"
      },
      "source": [
        "## Keras and TensorFlow: A brief history"
      ]
    },
    {
      "cell_type": "markdown",
      "metadata": {
        "tags": [],
        "id": "cqzcaCG1Pwut"
      },
      "source": [
        "## Setting up a deep-learning workspace"
      ]
    },
    {
      "cell_type": "markdown",
      "metadata": {
        "jp-MarkdownHeadingCollapsed": true,
        "tags": [],
        "id": "oGFPL-RTPwut"
      },
      "source": [
        "### Jupyter notebooks: The preferred way to run deep-learning experiments"
      ]
    },
    {
      "cell_type": "markdown",
      "metadata": {
        "tags": [],
        "id": "TfbjCr-MPwuu"
      },
      "source": [
        "### Using Colaboratory"
      ]
    },
    {
      "cell_type": "markdown",
      "metadata": {
        "id": "crcuX1zuPwuv"
      },
      "source": [
        "#### First steps with Colaboratory"
      ]
    },
    {
      "cell_type": "markdown",
      "metadata": {
        "tags": [],
        "id": "Ko2Wcmy9Pwuv"
      },
      "source": [
        "#### Installing packages with pip"
      ]
    },
    {
      "cell_type": "markdown",
      "metadata": {
        "jp-MarkdownHeadingCollapsed": true,
        "tags": [],
        "id": "fkQZYIgQPwuw"
      },
      "source": [
        "#### Using the GPU runtime"
      ]
    },
    {
      "cell_type": "markdown",
      "metadata": {
        "id": "N5qI6ZC4Pwuw"
      },
      "source": [
        "## First steps with TensorFlow"
      ]
    },
    {
      "cell_type": "markdown",
      "metadata": {
        "tags": [],
        "id": "hMiqTP1SPwuw"
      },
      "source": [
        "#### Constant tensors and variables"
      ]
    },
    {
      "cell_type": "markdown",
      "metadata": {
        "id": "WG6OCeUYPwux"
      },
      "source": [
        "**All-ones or all-zeros tensors**"
      ]
    },
    {
      "cell_type": "code",
      "execution_count": 56,
      "metadata": {
        "colab": {
          "base_uri": "https://localhost:8080/"
        },
        "id": "w-pxHQ03Pwux",
        "outputId": "b358df8c-6f86-4481-a825-6ad6921c6419"
      },
      "outputs": [
        {
          "output_type": "stream",
          "name": "stdout",
          "text": [
            "tf.Tensor(\n",
            "[[1.]\n",
            " [1.]], shape=(2, 1), dtype=float32)\n"
          ]
        }
      ],
      "source": [
        "import tensorflow as tf\n",
        "x = tf.ones(shape=(2, 1))\n",
        "print(x)"
      ]
    },
    {
      "cell_type": "code",
      "execution_count": 57,
      "metadata": {
        "colab": {
          "base_uri": "https://localhost:8080/"
        },
        "id": "BkNN4-VCPwuz",
        "outputId": "14ee3beb-d94d-41af-b4a3-4620e7a3c9e2"
      },
      "outputs": [
        {
          "output_type": "stream",
          "name": "stdout",
          "text": [
            "tf.Tensor(\n",
            "[[0.]\n",
            " [0.]], shape=(2, 1), dtype=float32)\n"
          ]
        }
      ],
      "source": [
        "x = tf.zeros(shape=(2, 1))\n",
        "print(x)"
      ]
    },
    {
      "cell_type": "markdown",
      "metadata": {
        "id": "jRALQg3fPwuz"
      },
      "source": [
        "**Random tensors**"
      ]
    },
    {
      "cell_type": "code",
      "execution_count": 58,
      "metadata": {
        "colab": {
          "base_uri": "https://localhost:8080/"
        },
        "id": "wpdYNB-8Pwu0",
        "outputId": "5a64294b-0011-4461-c5df-948141fe4eda"
      },
      "outputs": [
        {
          "output_type": "stream",
          "name": "stdout",
          "text": [
            "tf.Tensor(\n",
            "[[ 1.3155106 ]\n",
            " [-0.76348764]\n",
            " [ 0.8468969 ]], shape=(3, 1), dtype=float32)\n"
          ]
        }
      ],
      "source": [
        "x = tf.random.normal(shape=(3, 1), mean=0., stddev=1.)\n",
        "print(x)"
      ]
    },
    {
      "cell_type": "code",
      "execution_count": 59,
      "metadata": {
        "colab": {
          "base_uri": "https://localhost:8080/"
        },
        "id": "Fxn8Y50fPwu0",
        "outputId": "5ccb02f2-416e-4842-bd43-588869bb966c"
      },
      "outputs": [
        {
          "output_type": "stream",
          "name": "stdout",
          "text": [
            "tf.Tensor(\n",
            "[[0.5061643  0.01062191]\n",
            " [0.23046434 0.6383227 ]\n",
            " [0.54740334 0.38157535]\n",
            " [0.881686   0.09651017]], shape=(4, 2), dtype=float32)\n"
          ]
        }
      ],
      "source": [
        "x = tf.random.uniform(shape=(4, 2), minval=0., maxval=1.)\n",
        "print(x)"
      ]
    },
    {
      "cell_type": "markdown",
      "metadata": {
        "id": "Ifp5DWDDPwu0"
      },
      "source": [
        "**NumPy arrays are assignable**"
      ]
    },
    {
      "cell_type": "code",
      "execution_count": 60,
      "metadata": {
        "colab": {
          "base_uri": "https://localhost:8080/"
        },
        "id": "ZaXk1pHuPwu1",
        "outputId": "844b40a8-f074-4c63-a81b-7b03b95d17a4"
      },
      "outputs": [
        {
          "output_type": "execute_result",
          "data": {
            "text/plain": [
              "array([[1., 1.],\n",
              "       [1., 1.]])"
            ]
          },
          "metadata": {},
          "execution_count": 60
        }
      ],
      "source": [
        "import numpy as np\n",
        "x = np.ones(shape=(2, 2))\n",
        "x"
      ]
    },
    {
      "cell_type": "code",
      "execution_count": 61,
      "metadata": {
        "colab": {
          "base_uri": "https://localhost:8080/"
        },
        "id": "iizNzu_VPwu1",
        "outputId": "47f3ba2d-45f4-4765-a3c9-1215cfddf5eb"
      },
      "outputs": [
        {
          "output_type": "execute_result",
          "data": {
            "text/plain": [
              "array([[0., 1.],\n",
              "       [1., 1.]])"
            ]
          },
          "metadata": {},
          "execution_count": 61
        }
      ],
      "source": [
        "x[0, 0] = 0.\n",
        "x"
      ]
    },
    {
      "cell_type": "markdown",
      "metadata": {
        "id": "pNeJhN6aPwu1"
      },
      "source": [
        "**Creating a TensorFlow variable**"
      ]
    },
    {
      "cell_type": "code",
      "execution_count": 62,
      "metadata": {
        "colab": {
          "base_uri": "https://localhost:8080/"
        },
        "id": "QQIuwpyzPwu2",
        "outputId": "85556a0a-0007-4f04-d0b8-3f38a31c02b4"
      },
      "outputs": [
        {
          "output_type": "stream",
          "name": "stdout",
          "text": [
            "<tf.Variable 'Variable:0' shape=(3, 1) dtype=float32, numpy=\n",
            "array([[-0.17731865],\n",
            "       [-0.2991125 ],\n",
            "       [ 1.5102823 ]], dtype=float32)>\n"
          ]
        }
      ],
      "source": [
        "v = tf.Variable(initial_value=tf.random.normal(shape=(3, 1)))\n",
        "print(v)"
      ]
    },
    {
      "cell_type": "markdown",
      "metadata": {
        "id": "gKUYPMt0Pwu2"
      },
      "source": [
        "**Assigning a value to a TensorFlow variable**"
      ]
    },
    {
      "cell_type": "code",
      "execution_count": 63,
      "metadata": {
        "colab": {
          "base_uri": "https://localhost:8080/"
        },
        "id": "tUTXKkCxPwu2",
        "outputId": "019aba3e-8d54-40b2-c10d-cb505a9dfe5d"
      },
      "outputs": [
        {
          "output_type": "stream",
          "name": "stdout",
          "text": [
            "<tf.Variable 'Variable:0' shape=(3, 1) dtype=float32, numpy=\n",
            "array([[1.],\n",
            "       [1.],\n",
            "       [1.]], dtype=float32)>\n"
          ]
        }
      ],
      "source": [
        "v.assign(tf.ones((3, 1)))\n",
        "print(v)"
      ]
    },
    {
      "cell_type": "markdown",
      "metadata": {
        "id": "68knY5K0Pwu2"
      },
      "source": [
        "**Assigning a value to a subset of a TensorFlow variable**"
      ]
    },
    {
      "cell_type": "code",
      "execution_count": 64,
      "metadata": {
        "colab": {
          "base_uri": "https://localhost:8080/"
        },
        "id": "vviy1ZwuPwu2",
        "outputId": "c7ce5dc3-df1e-42df-de50-10f3342307ee"
      },
      "outputs": [
        {
          "output_type": "execute_result",
          "data": {
            "text/plain": [
              "<tf.Variable 'UnreadVariable' shape=(3, 1) dtype=float32, numpy=\n",
              "array([[3.],\n",
              "       [1.],\n",
              "       [1.]], dtype=float32)>"
            ]
          },
          "metadata": {},
          "execution_count": 64
        }
      ],
      "source": [
        "v[0, 0].assign(3.)"
      ]
    },
    {
      "cell_type": "markdown",
      "metadata": {
        "id": "kDiQuiLHPwu3"
      },
      "source": [
        "**Using `assign_add`**"
      ]
    },
    {
      "cell_type": "code",
      "execution_count": 65,
      "metadata": {
        "colab": {
          "base_uri": "https://localhost:8080/"
        },
        "id": "NZSQsxe5Pwu3",
        "outputId": "2a81f597-f767-49f6-f126-70a88f31c00e"
      },
      "outputs": [
        {
          "output_type": "execute_result",
          "data": {
            "text/plain": [
              "<tf.Variable 'UnreadVariable' shape=(3, 1) dtype=float32, numpy=\n",
              "array([[2.],\n",
              "       [0.],\n",
              "       [0.]], dtype=float32)>"
            ]
          },
          "metadata": {},
          "execution_count": 65
        }
      ],
      "source": [
        "v.assign_sub(tf.ones((3, 1)))"
      ]
    },
    {
      "cell_type": "code",
      "source": [
        "v.assign_add(tf.random.normal(shape=(3, 1)))"
      ],
      "metadata": {
        "id": "Hfs-2pVDTXLL",
        "outputId": "dc03fa9d-737f-4fa8-833c-ee442c7d6105",
        "colab": {
          "base_uri": "https://localhost:8080/"
        }
      },
      "execution_count": 66,
      "outputs": [
        {
          "output_type": "execute_result",
          "data": {
            "text/plain": [
              "<tf.Variable 'UnreadVariable' shape=(3, 1) dtype=float32, numpy=\n",
              "array([[ 2.9374044 ],\n",
              "       [-0.3262156 ],\n",
              "       [-0.75372607]], dtype=float32)>"
            ]
          },
          "metadata": {},
          "execution_count": 66
        }
      ]
    },
    {
      "cell_type": "markdown",
      "metadata": {
        "id": "asHAbxPFPwu3"
      },
      "source": [
        "#### Tensor operations: Doing math in TensorFlow"
      ]
    },
    {
      "cell_type": "markdown",
      "metadata": {
        "id": "01ts2xT3Pwu3"
      },
      "source": [
        "**A few basic math operations**"
      ]
    },
    {
      "cell_type": "code",
      "execution_count": 67,
      "metadata": {
        "colab": {
          "base_uri": "https://localhost:8080/"
        },
        "id": "levhIKMtPwu3",
        "outputId": "b3427950-3334-4b5d-e73b-843f92612ef3"
      },
      "outputs": [
        {
          "output_type": "stream",
          "name": "stdout",
          "text": [
            "b\n",
            " tf.Tensor(\n",
            "[[16. 16.]\n",
            " [16. 16.]], shape=(2, 2), dtype=float32)\n",
            "c\n",
            " tf.Tensor(\n",
            "[[2. 2.]\n",
            " [2. 2.]], shape=(2, 2), dtype=float32)\n",
            "d\n",
            " tf.Tensor(\n",
            "[[18. 18.]\n",
            " [18. 18.]], shape=(2, 2), dtype=float32)\n",
            "e\n",
            " tf.Tensor(\n",
            "[[128. 128.]\n",
            " [128. 128.]], shape=(2, 2), dtype=float32)\n",
            "e = new  e *=d \n",
            " tf.Tensor(\n",
            "[[2304. 2304.]\n",
            " [2304. 2304.]], shape=(2, 2), dtype=float32)\n"
          ]
        }
      ],
      "source": [
        "a = 4 * tf.ones((2, 2))\n",
        "b = tf.square(a)\n",
        "print(\"b\" +'\\n', b)\n",
        "c = tf.sqrt(a)\n",
        "print(\"c\" +'\\n', c)\n",
        "d = b + c\n",
        "print(\"d\" +'\\n', d)\n",
        "e = tf.matmul(a, b)\n",
        "print(\"e\" +'\\n', e)\n",
        "e *= d\n",
        "print(\"e = new  e *=d \" +'\\n', e)"
      ]
    },
    {
      "cell_type": "code",
      "source": [
        "a = 4 * tf.random.normal((2, 2))\n",
        "print(\"a\" +'\\n', a)\n",
        "b = tf.square(a)\n",
        "print(\"b\" +'\\n', b)\n",
        "c = tf.sqrt(b)\n",
        "print(\"c\" +'\\n', c)\n",
        "d = b + c\n",
        "print(\"d\" +'\\n', d)\n",
        "e = tf.matmul(a, b)\n",
        "print(\"e\" +'\\n', e)\n",
        "e *= d\n",
        "print(\"e = new  e *=d \" +'\\n', e)"
      ],
      "metadata": {
        "id": "RWs6QSFiVCId",
        "outputId": "5f7233ac-fbfd-4cf4-e75a-d047fdf2496e",
        "colab": {
          "base_uri": "https://localhost:8080/"
        }
      },
      "execution_count": 68,
      "outputs": [
        {
          "output_type": "stream",
          "name": "stdout",
          "text": [
            "a\n",
            " tf.Tensor(\n",
            "[[-3.061845   1.9920328]\n",
            " [ 1.1196294 -2.864034 ]], shape=(2, 2), dtype=float32)\n",
            "b\n",
            " tf.Tensor(\n",
            "[[9.374895  3.9681945]\n",
            " [1.25357   8.20269  ]], shape=(2, 2), dtype=float32)\n",
            "c\n",
            " tf.Tensor(\n",
            "[[3.061845  1.9920328]\n",
            " [1.1196294 2.864034 ]], shape=(2, 2), dtype=float32)\n",
            "d\n",
            " tf.Tensor(\n",
            "[[12.43674    5.960227 ]\n",
            " [ 2.3731995 11.066724 ]], shape=(2, 2), dtype=float32)\n",
            "e\n",
            " tf.Tensor(\n",
            "[[-26.207323    4.19003  ]\n",
            " [  6.9061413 -19.049875 ]], shape=(2, 2), dtype=float32)\n",
            "e = new  e *=d \n",
            " tf.Tensor(\n",
            "[[-325.93365   24.97353]\n",
            " [  16.38965 -210.8197 ]], shape=(2, 2), dtype=float32)\n"
          ]
        }
      ]
    },
    {
      "cell_type": "markdown",
      "metadata": {
        "id": "kh5x7m_4Pwu4"
      },
      "source": [
        "#### A second look at the GradientTape API"
      ]
    },
    {
      "cell_type": "markdown",
      "metadata": {
        "id": "_fQTcYytPwu4"
      },
      "source": [
        "**Using the `GradientTape`**"
      ]
    },
    {
      "cell_type": "code",
      "execution_count": 69,
      "metadata": {
        "id": "baD7aqsrPwu4"
      },
      "outputs": [],
      "source": [
        "input_var = tf.Variable(initial_value=3.)\n",
        "with tf.GradientTape() as tape:\n",
        "   result = tf.square(input_var)\n",
        "gradient = tape.gradient(result, input_var)\n"
      ]
    },
    {
      "cell_type": "code",
      "source": [
        "print(gradient)"
      ],
      "metadata": {
        "id": "uCGggiYYWGas",
        "outputId": "b3694755-880d-44c5-dee4-a07e642e9132",
        "colab": {
          "base_uri": "https://localhost:8080/"
        }
      },
      "execution_count": 70,
      "outputs": [
        {
          "output_type": "stream",
          "name": "stdout",
          "text": [
            "tf.Tensor(6.0, shape=(), dtype=float32)\n"
          ]
        }
      ]
    },
    {
      "cell_type": "markdown",
      "metadata": {
        "id": "Lg96XsFJPwu4"
      },
      "source": [
        "**Using `GradientTape` with constant tensor inputs**"
      ]
    },
    {
      "cell_type": "code",
      "execution_count": 71,
      "metadata": {
        "colab": {
          "base_uri": "https://localhost:8080/"
        },
        "id": "zbxTlWPIPwu4",
        "outputId": "bc3f6c3b-da6a-466d-eef4-5104d465af84"
      },
      "outputs": [
        {
          "output_type": "execute_result",
          "data": {
            "text/plain": [
              "<tf.Tensor: shape=(), dtype=float32, numpy=6.0>"
            ]
          },
          "metadata": {},
          "execution_count": 71
        }
      ],
      "source": [
        "input_const = tf.constant(3.)\n",
        "with tf.GradientTape() as tape:\n",
        "   tape.watch(input_const)\n",
        "   result = tf.square(input_const)\n",
        "gradient = tape.gradient(result, input_const)\n",
        "gradient"
      ]
    },
    {
      "cell_type": "markdown",
      "metadata": {
        "id": "6ftfLkLQPwu5"
      },
      "source": [
        "**Using nested gradient tapes to compute second-order gradients**"
      ]
    },
    {
      "cell_type": "code",
      "execution_count": 72,
      "metadata": {
        "colab": {
          "base_uri": "https://localhost:8080/"
        },
        "id": "T7CvDCgXPwu5",
        "outputId": "8fc25d8b-84cd-4b3f-bcd4-e494d4ce922d"
      },
      "outputs": [
        {
          "output_type": "stream",
          "name": "stdout",
          "text": [
            "speed of inner_tape= tf.Tensor(0.0, shape=(), dtype=float32)\n",
            "speed= tf.Tensor(0.0, shape=(), dtype=float32)\n",
            "acceleration= tf.Tensor(9.8, shape=(), dtype=float32)\n"
          ]
        }
      ],
      "source": [
        "time = tf.Variable(0.)\n",
        "with tf.GradientTape() as outer_tape:\n",
        "    with tf.GradientTape() as inner_tape:\n",
        "        position =  4.9 * time ** 2\n",
        "    speed = inner_tape.gradient(position, time)\n",
        "    print(\"speed of inner_tape=\", speed)\n",
        "acceleration = outer_tape.gradient(speed, time)\n",
        "print(\"speed=\", speed)\n",
        "print(\"acceleration=\", acceleration)\n"
      ]
    },
    {
      "cell_type": "markdown",
      "metadata": {
        "id": "pzR6yr0IPwu5"
      },
      "source": [
        "#### An end-to-end example: A linear classifier in pure TensorFlow"
      ]
    },
    {
      "cell_type": "markdown",
      "metadata": {
        "id": "ZOC9WRFQPwu5"
      },
      "source": [
        "**Generating two classes of random points in a 2D plane**"
      ]
    },
    {
      "cell_type": "code",
      "execution_count": 73,
      "metadata": {
        "id": "n1P5MrhoPwu5"
      },
      "outputs": [],
      "source": [
        "num_samples_per_class = 1000\n",
        "negative_samples = np.random.multivariate_normal(\n",
        "    mean=[0, 3],\n",
        "    cov=[[1, 0.5],[0.5, 1]],\n",
        "    size=num_samples_per_class)\n",
        "positive_samples = np.random.multivariate_normal(\n",
        "    mean=[3, 0],\n",
        "    cov=[[1, 0.5],[0.5, 1]],\n",
        "    size=num_samples_per_class)"
      ]
    },
    {
      "cell_type": "code",
      "source": [
        "positive_samples"
      ],
      "metadata": {
        "id": "yGok0aRJZjmt",
        "outputId": "8ba99f71-ee7c-4836-96c4-f80ca0a5834f",
        "colab": {
          "base_uri": "https://localhost:8080/"
        }
      },
      "execution_count": 74,
      "outputs": [
        {
          "output_type": "execute_result",
          "data": {
            "text/plain": [
              "array([[ 1.44715295, -2.783325  ],\n",
              "       [ 2.2259794 , -0.24325518],\n",
              "       [ 3.25762139,  0.80811899],\n",
              "       ...,\n",
              "       [ 4.97233851,  1.77298462],\n",
              "       [ 3.53338482,  0.14577857],\n",
              "       [ 3.81196305,  0.38609989]])"
            ]
          },
          "metadata": {},
          "execution_count": 74
        }
      ]
    },
    {
      "cell_type": "markdown",
      "metadata": {
        "id": "QHtu0-JDPwu6"
      },
      "source": [
        "**Stacking the two classes into an array with shape (2000, 2)**"
      ]
    },
    {
      "cell_type": "code",
      "execution_count": 75,
      "metadata": {
        "colab": {
          "base_uri": "https://localhost:8080/"
        },
        "id": "-WumtdQyPwu6",
        "outputId": "ebbd71cf-3870-4f35-c7a7-486383b84074"
      },
      "outputs": [
        {
          "output_type": "execute_result",
          "data": {
            "text/plain": [
              "array([[-1.5908167 ,  2.7634766 ],\n",
              "       [-1.5981271 ,  1.1428782 ],\n",
              "       [ 0.88766897,  3.7972085 ],\n",
              "       ...,\n",
              "       [ 4.9723387 ,  1.7729846 ],\n",
              "       [ 3.5333848 ,  0.14577857],\n",
              "       [ 3.811963  ,  0.3860999 ]], dtype=float32)"
            ]
          },
          "metadata": {},
          "execution_count": 75
        }
      ],
      "source": [
        "inputs = np.vstack((negative_samples, positive_samples)).astype(np.float32)\n",
        "inputs"
      ]
    },
    {
      "cell_type": "code",
      "source": [
        "inputs.ndim"
      ],
      "metadata": {
        "id": "zmgu5e0NEb-Y",
        "outputId": "2d5ea811-af26-4685-9795-90e4fe42e8a5",
        "colab": {
          "base_uri": "https://localhost:8080/"
        }
      },
      "execution_count": 76,
      "outputs": [
        {
          "output_type": "execute_result",
          "data": {
            "text/plain": [
              "2"
            ]
          },
          "metadata": {},
          "execution_count": 76
        }
      ]
    },
    {
      "cell_type": "markdown",
      "metadata": {
        "id": "LWyT99EdPwu6"
      },
      "source": [
        "**Generating the corresponding targets (0 and 1)**"
      ]
    },
    {
      "cell_type": "code",
      "execution_count": 77,
      "metadata": {
        "id": "cxdU4NNdPwu6"
      },
      "outputs": [],
      "source": [
        "targets = np.vstack((np.zeros((num_samples_per_class, 1), dtype=\"float32\"),\n",
        "                     np.ones((num_samples_per_class, 1), dtype=\"float32\")))"
      ]
    },
    {
      "cell_type": "markdown",
      "metadata": {
        "id": "JxADAWdsPwu6"
      },
      "source": [
        "**Plotting the two point classes**"
      ]
    },
    {
      "cell_type": "code",
      "execution_count": 78,
      "metadata": {
        "colab": {
          "base_uri": "https://localhost:8080/",
          "height": 265
        },
        "id": "s2oYnIUFPwu6",
        "outputId": "d2e327b5-f460-46ef-8eed-2b61b5dfdf3a"
      },
      "outputs": [
        {
          "output_type": "display_data",
          "data": {
            "text/plain": [
              "<Figure size 432x288 with 1 Axes>"
            ],
            "image/png": "[encoded data removed]"
          },
          "metadata": {
            "needs_background": "light"
          }
        }
      ],
      "source": [
        "import matplotlib.pyplot as plt\n",
        "plt.scatter(inputs[:, 0], inputs[:, 1], c=targets[:, 0])\n",
        "plt.show()"
      ]
    },
    {
      "cell_type": "markdown",
      "metadata": {
        "id": "VQRed_GaPwu6"
      },
      "source": [
        "**Creating the linear classifier variables**"
      ]
    },
    {
      "cell_type": "code",
      "execution_count": 79,
      "metadata": {
        "id": "xfFJFoCBPwu7"
      },
      "outputs": [],
      "source": [
        "input_dim = 2\n",
        "output_dim = 1\n",
        "W = tf.Variable(initial_value=tf.random.uniform(shape=(input_dim, output_dim)))\n",
        "b = tf.Variable(initial_value=tf.zeros(shape=(output_dim,)))"
      ]
    },
    {
      "cell_type": "code",
      "source": [
        "print(W)\n",
        "print(b)"
      ],
      "metadata": {
        "id": "3Fdta1graELn",
        "outputId": "2943b5ef-cd0f-4865-a9cf-65b98a0292df",
        "colab": {
          "base_uri": "https://localhost:8080/"
        }
      },
      "execution_count": 80,
      "outputs": [
        {
          "output_type": "stream",
          "name": "stdout",
          "text": [
            "<tf.Variable 'Variable:0' shape=(2, 1) dtype=float32, numpy=\n",
            "array([[0.9337528],\n",
            "       [0.640782 ]], dtype=float32)>\n",
            "<tf.Variable 'Variable:0' shape=(1,) dtype=float32, numpy=array([0.], dtype=float32)>\n"
          ]
        }
      ]
    },
    {
      "cell_type": "markdown",
      "metadata": {
        "id": "hFysDZsqPwu7"
      },
      "source": [
        "**The forward pass function**"
      ]
    },
    {
      "cell_type": "code",
      "execution_count": 81,
      "metadata": {
        "id": "yMOTgQ7DPwu7"
      },
      "outputs": [],
      "source": [
        "def model(inputs):\n",
        "    return tf.matmul(inputs, W) + b"
      ]
    },
    {
      "cell_type": "markdown",
      "metadata": {
        "id": "ISY24ujPPwu7"
      },
      "source": [
        "**The mean squared error loss function**"
      ]
    },
    {
      "cell_type": "code",
      "execution_count": 82,
      "metadata": {
        "id": "noe2IF44Pwu7"
      },
      "outputs": [],
      "source": [
        "def square_loss(targets, predictions):\n",
        "    per_sample_losses = tf.square(targets - predictions)\n",
        "    return tf.reduce_mean(per_sample_losses)"
      ]
    },
    {
      "cell_type": "markdown",
      "metadata": {
        "id": "6iI7a283Pwu7"
      },
      "source": [
        "**The training step function**"
      ]
    },
    {
      "cell_type": "code",
      "execution_count": 83,
      "metadata": {
        "id": "BcxdocuoPwu8"
      },
      "outputs": [],
      "source": [
        "learning_rate = 0.1\n",
        "\n",
        "def training_step(inputs, targets):\n",
        "    with tf.GradientTape() as tape:\n",
        "        predictions = model(inputs)\n",
        "        loss = square_loss(targets, predictions)\n",
        "    grad_loss_wrt_W, grad_loss_wrt_b = tape.gradient(loss, [W, b])\n",
        "    W.assign_sub(grad_loss_wrt_W * learning_rate)\n",
        "    b.assign_sub(grad_loss_wrt_b * learning_rate)\n",
        "    return loss"
      ]
    },
    {
      "cell_type": "markdown",
      "metadata": {
        "id": "I4rx4p_RPwu8"
      },
      "source": [
        "**The batch training loop**"
      ]
    },
    {
      "cell_type": "code",
      "execution_count": 84,
      "metadata": {
        "id": "fszrNqtjPwu8",
        "outputId": "b1dc2e26-71e5-4347-9af7-e3403b495c58",
        "colab": {
          "base_uri": "https://localhost:8080/"
        }
      },
      "outputs": [
        {
          "output_type": "stream",
          "name": "stdout",
          "text": [
            "Loss at step 0: 5.5642\n",
            "Loss at step 1: 1.0090\n",
            "Loss at step 2: 0.2900\n",
            "Loss at step 3: 0.1682\n",
            "Loss at step 4: 0.1403\n",
            "Loss at step 5: 0.1277\n",
            "Loss at step 6: 0.1183\n",
            "Loss at step 7: 0.1101\n",
            "Loss at step 8: 0.1026\n",
            "Loss at step 9: 0.0958\n",
            "Loss at step 10: 0.0896\n",
            "Loss at step 11: 0.0839\n",
            "Loss at step 12: 0.0788\n",
            "Loss at step 13: 0.0741\n",
            "Loss at step 14: 0.0698\n",
            "Loss at step 15: 0.0659\n",
            "Loss at step 16: 0.0623\n",
            "Loss at step 17: 0.0591\n",
            "Loss at step 18: 0.0561\n",
            "Loss at step 19: 0.0534\n",
            "Loss at step 20: 0.0510\n",
            "Loss at step 21: 0.0487\n",
            "Loss at step 22: 0.0467\n",
            "Loss at step 23: 0.0448\n",
            "Loss at step 24: 0.0431\n",
            "Loss at step 25: 0.0416\n",
            "Loss at step 26: 0.0402\n",
            "Loss at step 27: 0.0389\n",
            "Loss at step 28: 0.0377\n",
            "Loss at step 29: 0.0366\n",
            "Loss at step 30: 0.0357\n",
            "Loss at step 31: 0.0348\n",
            "Loss at step 32: 0.0340\n",
            "Loss at step 33: 0.0332\n",
            "Loss at step 34: 0.0326\n",
            "Loss at step 35: 0.0320\n",
            "Loss at step 36: 0.0314\n",
            "Loss at step 37: 0.0309\n",
            "Loss at step 38: 0.0304\n",
            "Loss at step 39: 0.0300\n"
          ]
        }
      ],
      "source": [
        "for step in range(40):\n",
        "    loss = training_step(inputs, targets)\n",
        "    print(f\"Loss at step {step}: {loss:.4f}\")"
      ]
    },
    {
      "cell_type": "code",
      "execution_count": 85,
      "metadata": {
        "colab": {
          "base_uri": "https://localhost:8080/",
          "height": 265
        },
        "id": "zoXkIdJKPwu8",
        "outputId": "3124df28-677c-4bd4-a747-8d21875db195"
      },
      "outputs": [
        {
          "output_type": "display_data",
          "data": {
            "text/plain": [
              "<Figure size 432x288 with 1 Axes>"
            ],
            "image/png": "[encoded data removed]"
          },
          "metadata": {
            "needs_background": "light"
          }
        }
      ],
      "source": [
        "predictions = model(inputs)\n",
        "plt.scatter(inputs[:, 0], inputs[:, 1], c=predictions[:, 0] > 0.5)\n",
        "plt.show()"
      ]
    },
    {
      "cell_type": "code",
      "execution_count": 86,
      "metadata": {
        "colab": {
          "base_uri": "https://localhost:8080/",
          "height": 282
        },
        "id": "J9UYyzLVPwu8",
        "outputId": "c7633a90-9ea5-44a8-9f0b-8a4068fe6e17"
      },
      "outputs": [
        {
          "output_type": "execute_result",
          "data": {
            "text/plain": [
              "<matplotlib.collections.PathCollection at 0x7f0c3d20cd30>"
            ]
          },
          "metadata": {},
          "execution_count": 86
        },
        {
          "output_type": "display_data",
          "data": {
            "text/plain": [
              "<Figure size 432x288 with 1 Axes>"
            ],
            "image/png": "[encoded data removed]"
          },
          "metadata": {
            "needs_background": "light"
          }
        }
      ],
      "source": [
        "x = np.linspace(-2, 5, 100)\n",
        "y = - W[0] /  W[1] * x + (0.5 - b) / W[1]\n",
        "plt.plot(x, y, \"-r\")\n",
        "plt.scatter(inputs[:, 0], inputs[:, 1], c=predictions[:, 0] > 0.5)"
      ]
    },
    {
      "cell_type": "markdown",
      "metadata": {
        "id": "C5nJW2_5Pwu8"
      },
      "source": [
        "## Anatomy of a neural network: Understanding core Keras APIs"
      ]
    },
    {
      "cell_type": "markdown",
      "metadata": {
        "id": "1g2nnp2SPwu9"
      },
      "source": [
        "### Layers: The building blocks of deep learning"
      ]
    },
    {
      "cell_type": "markdown",
      "metadata": {
        "id": "Prm9qzXDPwu9"
      },
      "source": [
        "#### The base Layer class in Keras"
      ]
    },
    {
      "cell_type": "markdown",
      "metadata": {
        "id": "T1hqJeUQPwu9"
      },
      "source": [
        "**A `Dense` layer implemented as a `Layer` subclass**"
      ]
    },
    {
      "cell_type": "code",
      "execution_count": 87,
      "metadata": {
        "id": "euaPFhvwPwu9"
      },
      "outputs": [],
      "source": [
        "from tensorflow import keras\n",
        "\n",
        "class SimpleDense(keras.layers.Layer):\n",
        "\n",
        "    def __init__(self, units, activation=None):\n",
        "        super().__init__()\n",
        "        self.units = units\n",
        "        self.activation = activation\n",
        "\n",
        "    def build(self, input_shape):\n",
        "        input_dim = input_shape[-1]\n",
        "        self.W = self.add_weight(shape=(input_dim, self.units),\n",
        "                                 initializer=\"random_normal\")\n",
        "        self.b = self.add_weight(shape=(self.units,),\n",
        "                                 initializer=\"zeros\")\n",
        "\n",
        "    def call(self, inputs):\n",
        "        y = tf.matmul(inputs, self.W) + self.b\n",
        "        if self.activation is not None:\n",
        "            y = self.activation(y)\n",
        "        return y"
      ]
    },
    {
      "cell_type": "code",
      "execution_count": 88,
      "metadata": {
        "id": "2IaanFuxPwu9",
        "outputId": "e9c92e7d-4ce4-4e59-a64e-b161aff3865c",
        "colab": {
          "base_uri": "https://localhost:8080/"
        }
      },
      "outputs": [
        {
          "output_type": "execute_result",
          "data": {
            "text/plain": [
              "<__main__.SimpleDense at 0x7f0c386b32b0>"
            ]
          },
          "metadata": {},
          "execution_count": 88
        }
      ],
      "source": [
        "my_dense = SimpleDense(units=32, activation=tf.nn.relu)\n",
        "my_dense"
      ]
    },
    {
      "cell_type": "code",
      "source": [
        "input_tensor = tf.ones(shape=(2, 784))\n",
        "input_tensor"
      ],
      "metadata": {
        "id": "nEhmATSfZZXj",
        "outputId": "05f0f8c8-fe24-4163-973b-2f6c020d0b7e",
        "colab": {
          "base_uri": "https://localhost:8080/"
        }
      },
      "execution_count": 89,
      "outputs": [
        {
          "output_type": "execute_result",
          "data": {
            "text/plain": [
              "<tf.Tensor: shape=(2, 784), dtype=float32, numpy=\n",
              "array([[1., 1., 1., ..., 1., 1., 1.],\n",
              "       [1., 1., 1., ..., 1., 1., 1.]], dtype=float32)>"
            ]
          },
          "metadata": {},
          "execution_count": 89
        }
      ]
    },
    {
      "cell_type": "code",
      "source": [
        "output_tensor = my_dense(input_tensor)\n",
        "print(output_tensor)\n",
        "print(output_tensor.shape)"
      ],
      "metadata": {
        "id": "cYyDbAHSZn5M",
        "outputId": "105b0fcc-c9f5-45e8-cb45-771e95b1e606",
        "colab": {
          "base_uri": "https://localhost:8080/"
        }
      },
      "execution_count": 90,
      "outputs": [
        {
          "output_type": "stream",
          "name": "stdout",
          "text": [
            "tf.Tensor(\n",
            "[[0.         1.5986308  0.01301989 0.         1.3180233  0.\n",
            "  0.         0.         0.05476832 2.5319326  0.         0.\n",
            "  0.28440666 0.         0.23160553 0.         1.0207655  3.4715233\n",
            "  0.         0.         0.8426539  1.3501254  0.         0.\n",
            "  0.         0.0727728  0.         0.         1.1474864  0.2493189\n",
            "  0.         0.33484036]\n",
            " [0.         1.5986308  0.01301989 0.         1.3180233  0.\n",
            "  0.         0.         0.05476832 2.5319326  0.         0.\n",
            "  0.28440666 0.         0.23160553 0.         1.0207655  3.4715233\n",
            "  0.         0.         0.8426539  1.3501254  0.         0.\n",
            "  0.         0.0727728  0.         0.         1.1474864  0.2493189\n",
            "  0.         0.33484036]], shape=(2, 32), dtype=float32)\n",
            "(2, 32)\n"
          ]
        }
      ]
    },
    {
      "cell_type": "markdown",
      "metadata": {
        "id": "cJAl1wqUPwu9"
      },
      "source": [
        "#### Automatic shape inference: Building layers on the fly"
      ]
    },
    {
      "cell_type": "code",
      "execution_count": 91,
      "metadata": {
        "id": "f8Dh-1BNPwu9"
      },
      "outputs": [],
      "source": [
        "from tensorflow.keras import layers\n",
        "layer = layers.Dense(32, activation=\"relu\")"
      ]
    },
    {
      "cell_type": "code",
      "execution_count": 92,
      "metadata": {
        "id": "EbpF5ZalPwu-"
      },
      "outputs": [],
      "source": [
        "from tensorflow.keras import models\n",
        "from tensorflow.keras import layers\n",
        "model = models.Sequential([\n",
        "    layers.Dense(32, activation=\"relu\"),\n",
        "    layers.Dense(32)\n",
        "])"
      ]
    },
    {
      "cell_type": "code",
      "execution_count": 93,
      "metadata": {
        "id": "y_R2SBMyPwu-"
      },
      "outputs": [],
      "source": [
        "model = keras.Sequential([\n",
        "    SimpleDense(32, activation=\"relu\"),\n",
        "    SimpleDense(64, activation=\"relu\"),\n",
        "    SimpleDense(32, activation=\"relu\"),\n",
        "    SimpleDense(10, activation=\"softmax\")\n",
        "])"
      ]
    },
    {
      "cell_type": "markdown",
      "metadata": {
        "id": "w9YHKE23Pwu-"
      },
      "source": [
        "### From layers to models"
      ]
    },
    {
      "cell_type": "markdown",
      "metadata": {
        "id": "w_kXOV0RPwu-"
      },
      "source": [
        "### The \"compile\" step: Configuring the learning process"
      ]
    },
    {
      "cell_type": "code",
      "execution_count": 94,
      "metadata": {
        "id": "HfQ84kfEPwu-"
      },
      "outputs": [],
      "source": [
        "model = keras.Sequential([keras.layers.Dense(1)])\n",
        "model.compile(optimizer=\"rmsprop\",\n",
        "              loss=\"mean_squared_error\",\n",
        "              metrics=[\"accuracy\"])"
      ]
    },
    {
      "cell_type": "code",
      "execution_count": 95,
      "metadata": {
        "id": "vjlD8D7RPwu-"
      },
      "outputs": [],
      "source": [
        "model.compile(optimizer=keras.optimizers.RMSprop(),\n",
        "              loss=keras.losses.MeanSquaredError(),\n",
        "              metrics=[keras.metrics.BinaryAccuracy()])"
      ]
    },
    {
      "cell_type": "markdown",
      "metadata": {
        "id": "rSGEWdPrPwu_"
      },
      "source": [
        "### Picking a loss function"
      ]
    },
    {
      "cell_type": "markdown",
      "metadata": {
        "id": "MSZWcqiBPwu_"
      },
      "source": [
        "### Understanding the fit() method"
      ]
    },
    {
      "cell_type": "markdown",
      "metadata": {
        "id": "TUj6RJs8Pwu_"
      },
      "source": [
        "**Calling `fit()` with NumPy data**"
      ]
    },
    {
      "cell_type": "code",
      "execution_count": 98,
      "metadata": {
        "id": "kI64VBgEPwu_",
        "outputId": "08a0d10d-0293-4421-d8ac-243964529f92",
        "colab": {
          "base_uri": "https://localhost:8080/"
        }
      },
      "outputs": [
        {
          "output_type": "stream",
          "name": "stdout",
          "text": [
            "Epoch 1/10\n",
            "16/16 [==============================] - 0s 2ms/step - loss: 1.0290 - binary_accuracy: 0.7495\n",
            "Epoch 2/10\n",
            "16/16 [==============================] - 0s 2ms/step - loss: 0.9139 - binary_accuracy: 0.7795\n",
            "Epoch 3/10\n",
            "16/16 [==============================] - 0s 2ms/step - loss: 0.8075 - binary_accuracy: 0.8095\n",
            "Epoch 4/10\n",
            "16/16 [==============================] - 0s 2ms/step - loss: 0.7106 - binary_accuracy: 0.8380\n",
            "Epoch 5/10\n",
            "16/16 [==============================] - 0s 2ms/step - loss: 0.6230 - binary_accuracy: 0.8740\n",
            "Epoch 6/10\n",
            "16/16 [==============================] - 0s 2ms/step - loss: 0.5444 - binary_accuracy: 0.9070\n",
            "Epoch 7/10\n",
            "16/16 [==============================] - 0s 2ms/step - loss: 0.4749 - binary_accuracy: 0.9325\n",
            "Epoch 8/10\n",
            "16/16 [==============================] - 0s 1ms/step - loss: 0.4123 - binary_accuracy: 0.9630\n",
            "Epoch 9/10\n",
            "16/16 [==============================] - 0s 2ms/step - loss: 0.3572 - binary_accuracy: 0.9720\n",
            "Epoch 10/10\n",
            "16/16 [==============================] - 0s 2ms/step - loss: 0.3080 - binary_accuracy: 0.9790\n"
          ]
        }
      ],
      "source": [
        "history = model.fit(\n",
        "    inputs,\n",
        "    targets,\n",
        "    epochs=10,\n",
        "    batch_size=128\n",
        ")"
      ]
    },
    {
      "cell_type": "code",
      "execution_count": 99,
      "metadata": {
        "id": "xZgMMMmsPwu_",
        "outputId": "8cf82dbb-a5f9-40ce-abbb-6db6887873a9",
        "colab": {
          "base_uri": "https://localhost:8080/"
        }
      },
      "outputs": [
        {
          "output_type": "execute_result",
          "data": {
            "text/plain": [
              "{'loss': [1.0290330648422241,\n",
              "  0.913897693157196,\n",
              "  0.8075370192527771,\n",
              "  0.7106413245201111,\n",
              "  0.6230020523071289,\n",
              "  0.5444400310516357,\n",
              "  0.47493359446525574,\n",
              "  0.4122830927371979,\n",
              "  0.3572096824645996,\n",
              "  0.30795615911483765],\n",
              " 'binary_accuracy': [0.7494999766349792,\n",
              "  0.7795000076293945,\n",
              "  0.809499979019165,\n",
              "  0.8379999995231628,\n",
              "  0.8740000128746033,\n",
              "  0.9070000052452087,\n",
              "  0.9325000047683716,\n",
              "  0.9629999995231628,\n",
              "  0.972000002861023,\n",
              "  0.9789999723434448]}"
            ]
          },
          "metadata": {},
          "execution_count": 99
        }
      ],
      "source": [
        "history.history"
      ]
    },
    {
      "cell_type": "markdown",
      "metadata": {
        "id": "n2J5JtpPPwu_"
      },
      "source": [
        "### Monitoring loss and metrics on validation data"
      ]
    },
    {
      "cell_type": "markdown",
      "metadata": {
        "id": "FMUleIzmPwu_"
      },
      "source": [
        "**Using the `validation_data` argument**"
      ]
    },
    {
      "cell_type": "code",
      "execution_count": 100,
      "metadata": {
        "id": "7uX4JoU_PwvA",
        "outputId": "a38bcec4-72f3-40fb-d124-aa073de7fae9",
        "colab": {
          "base_uri": "https://localhost:8080/"
        }
      },
      "outputs": [
        {
          "output_type": "stream",
          "name": "stdout",
          "text": [
            "Epoch 1/10\n",
            "88/88 [==============================] - 1s 4ms/step - loss: 0.0929 - binary_accuracy: 0.9357 - val_loss: 0.0956 - val_binary_accuracy: 0.8900\n",
            "Epoch 2/10\n",
            "88/88 [==============================] - 0s 2ms/step - loss: 0.0676 - binary_accuracy: 0.9621 - val_loss: 0.0660 - val_binary_accuracy: 0.9900\n",
            "Epoch 3/10\n",
            "88/88 [==============================] - 0s 2ms/step - loss: 0.0794 - binary_accuracy: 0.9500 - val_loss: 0.0367 - val_binary_accuracy: 0.9967\n",
            "Epoch 4/10\n",
            "88/88 [==============================] - 0s 2ms/step - loss: 0.0655 - binary_accuracy: 0.9657 - val_loss: 0.1658 - val_binary_accuracy: 0.7667\n",
            "Epoch 5/10\n",
            "88/88 [==============================] - 0s 2ms/step - loss: 0.0737 - binary_accuracy: 0.9550 - val_loss: 0.0284 - val_binary_accuracy: 0.9983\n",
            "Epoch 6/10\n",
            "88/88 [==============================] - 0s 2ms/step - loss: 0.0768 - binary_accuracy: 0.9536 - val_loss: 0.0517 - val_binary_accuracy: 0.9733\n",
            "Epoch 7/10\n",
            "88/88 [==============================] - 0s 2ms/step - loss: 0.0717 - binary_accuracy: 0.9586 - val_loss: 0.0530 - val_binary_accuracy: 0.9933\n",
            "Epoch 8/10\n",
            "88/88 [==============================] - 0s 2ms/step - loss: 0.0734 - binary_accuracy: 0.9500 - val_loss: 0.0432 - val_binary_accuracy: 0.9967\n",
            "Epoch 9/10\n",
            "88/88 [==============================] - 0s 2ms/step - loss: 0.0699 - binary_accuracy: 0.9564 - val_loss: 0.0577 - val_binary_accuracy: 1.0000\n",
            "Epoch 10/10\n",
            "88/88 [==============================] - 0s 2ms/step - loss: 0.0710 - binary_accuracy: 0.9571 - val_loss: 0.0319 - val_binary_accuracy: 0.9950\n"
          ]
        },
        {
          "output_type": "execute_result",
          "data": {
            "text/plain": [
              "<keras.callbacks.History at 0x7f0c3595bee0>"
            ]
          },
          "metadata": {},
          "execution_count": 100
        }
      ],
      "source": [
        "model = keras.Sequential([keras.layers.Dense(1)])\n",
        "model.compile(optimizer=keras.optimizers.RMSprop(learning_rate=0.1),\n",
        "              loss=keras.losses.MeanSquaredError(),\n",
        "              metrics=[keras.metrics.BinaryAccuracy()])\n",
        "\n",
        "indices_permutation = np.random.permutation(len(inputs))\n",
        "shuffled_inputs = inputs[indices_permutation]\n",
        "shuffled_targets = targets[indices_permutation]\n",
        "\n",
        "num_validation_samples = int(0.3 * len(inputs))\n",
        "val_inputs = shuffled_inputs[:num_validation_samples]\n",
        "val_targets = shuffled_targets[:num_validation_samples]\n",
        "training_inputs = shuffled_inputs[num_validation_samples:]\n",
        "training_targets = shuffled_targets[num_validation_samples:]\n",
        "model.fit(\n",
        "    training_inputs,\n",
        "    training_targets,\n",
        "    epochs=10,\n",
        "    batch_size=16,\n",
        "    validation_data=(val_inputs, val_targets)\n",
        ")"
      ]
    },
    {
      "cell_type": "markdown",
      "metadata": {
        "id": "Ly9bduVLPwvA"
      },
      "source": [
        "### Inference: Using a model after training"
      ]
    },
    {
      "cell_type": "code",
      "execution_count": 104,
      "metadata": {
        "id": "cDDgKkY-PwvA",
        "outputId": "41201593-e051-4ddf-9a1f-a9eb49f0c4e1",
        "colab": {
          "base_uri": "https://localhost:8080/"
        }
      },
      "outputs": [
        {
          "output_type": "stream",
          "name": "stdout",
          "text": [
            "5/5 [==============================] - 0s 2ms/step\n",
            "[[ 0.19548422]\n",
            " [ 0.22545677]\n",
            " [-0.00872892]\n",
            " [-0.0649665 ]\n",
            " [ 0.02652532]\n",
            " [ 0.72375196]\n",
            " [-0.19897789]\n",
            " [ 0.29578257]\n",
            " [ 0.19862783]\n",
            " [ 0.42041552]\n",
            " [ 0.11034885]\n",
            " [-0.06899697]\n",
            " [ 0.06893668]\n",
            " [ 0.9489738 ]\n",
            " [ 0.23577148]\n",
            " [ 0.02849156]\n",
            " [ 0.90175486]\n",
            " [ 0.69489   ]\n",
            " [ 1.2726495 ]\n",
            " [ 0.06577098]]\n"
          ]
        }
      ],
      "source": [
        "predictions = model.predict(val_inputs, batch_size=128)\n",
        "print(predictions[:20])"
      ]
    },
    {
      "cell_type": "code",
      "source": [
        "loss_and_metrics = model.evaluate(val_inputs, val_targets, batch_size=128)"
      ],
      "metadata": {
        "id": "nrcq3tIvFVCA",
        "outputId": "cdaecd07-01ef-4c3f-cf50-1ea7a1669f40",
        "colab": {
          "base_uri": "https://localhost:8080/"
        }
      },
      "execution_count": 105,
      "outputs": [
        {
          "output_type": "stream",
          "name": "stdout",
          "text": [
            "5/5 [==============================] - 0s 2ms/step - loss: 0.0319 - binary_accuracy: 0.9950\n"
          ]
        }
      ]
    },
    {
      "cell_type": "markdown",
      "metadata": {
        "id": "J4JOoNDPPwvA"
      },
      "source": [
        "## Summary"
      ]
    }
  ],
  "metadata": {
    "colab": {
      "name": "chapter03_introduction-to-keras-and-tf.i",
      "provenance": [],
      "toc_visible": true,
      "include_colab_link": true
    },
    "kernelspec": {
      "display_name": "Python 3 (ipykernel)",
      "language": "python",
      "name": "python3"
    },
    "language_info": {
      "codemirror_mode": {
        "name": "ipython",
        "version": 3
      },
      "file_extension": ".py",
      "mimetype": "text/x-python",
      "name": "python",
      "nbconvert_exporter": "python",
      "pygments_lexer": "ipython3",
      "version": "3.9.5"
    }
  },
  "nbformat": 4,
  "nbformat_minor": 0
}